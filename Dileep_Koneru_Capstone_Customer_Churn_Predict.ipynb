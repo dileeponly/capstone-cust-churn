{
 "cells": [
  {
   "cell_type": "code",
   "execution_count": 1,
   "metadata": {},
   "outputs": [],
   "source": [
    "#Script for Predicting the data for different models\n",
    "\n",
    "#Import required libraries\n",
    "import sklearn\n",
    "import numpy as np\n",
    "import pandas as pd\n",
    "%matplotlib inline\n",
    "import matplotlib as mpl\n",
    "import matplotlib.pyplot as plt\n",
    "from scipy.stats import pearsonr\n",
    "from sklearn.model_selection import train_test_split\n",
    "from sklearn.linear_model import LogisticRegression\n",
    "from sklearn.metrics import accuracy_score\n",
    "from sklearn.metrics import roc_auc_score\n",
    "import pickle\n",
    "\n",
    "np.random.seed(42)\n",
    "\n",
    "#Set the rc params for axes, xtick, and ytick\n",
    "mpl.rc('axes', labelsize=14)\n",
    "mpl.rc('xtick', labelsize=12)\n",
    "mpl.rc('ytick', labelsize=12)\n",
    "\n",
    "#Finally, we will import warnings and ensure that the non-essential warnings are ignored\n",
    "import warnings\n",
    "warnings.filterwarnings(action=\"ignore\", message=\"^internal gelsd\")\n",
    "\n",
    "#Load the dataset\n",
    "churn = pd.read_csv('churn_test.csv')\n",
    "\n",
    "#Drop basic attributes like State, Area code\n",
    "churn = churn.drop(['State','Area code'], axis=1)\n",
    "\n",
    "'''\n",
    "for column in churn.select_dtypes(include=[\"object\"]).columns:\n",
    "    if column != \"Churn\":\n",
    "        display(pd.crosstab(index=churn[column], columns=churn[\"Churn\"], normalize=\"columns\"))\n",
    "\n",
    "for column in churn.select_dtypes(exclude=[\"object\"]).columns:\n",
    "    print(column)\n",
    "    hist = churn[[column, \"Churn\"]].hist(by=\"Churn\", bins=30)\n",
    "    plt.show()\n",
    "  \n",
    "display(churn.corr(numeric_only=True))\n",
    "pd.plotting.scatter_matrix(churn, figsize=(12, 12))\n",
    "plt.show()\n",
    "\n",
    "df['color'] = df['color'].astype('category')\n",
    "df['color_encoded'] = df['color'].cat.codes\n",
    "'''\n",
    "\n",
    "#Let us convert categorical fields into numerics - Voice mail plan, International plan, Churn\n",
    "churn['Voicemail_plan_upd'] = churn['Voice mail plan'].astype('category').cat.codes\n",
    "churn['International_plan_upd'] = churn['International plan'].astype('category').cat.codes\n",
    "churn['Churn_upd'] = churn['Churn'].astype('category').cat.codes\n",
    "\n",
    "# Run the Correlation matrix of each feature against the label and Identify what attributes are unnecessary\n",
    "#print(churn.corr())\n",
    "\n",
    "#Going by the Correlation matrix, Total day charge, Total eve charge, Total night charge are just repetitive. Hence dropping them off\n",
    "churn = churn.drop(['Voice mail plan','International plan','Churn','Total day charge','Total eve charge','Total night charge'],axis=1)\n",
    "\n",
    "'''\n",
    "from scipy.stats import pearsonr\n",
    "\n",
    "l1=churn['Voice mail plan']\n",
    "l2=churn['Churn']\n",
    "\n",
    "corr, _ = pearsonr(l1, l2)\n",
    "print('Pearsons correlation: %.3f' % corr)\n",
    "'''\n",
    "\n",
    "#Checking the data scatter, nulls & other metrics of data\n",
    "#churn.describe()\n",
    "\n",
    "# Store the labels in a variable\n",
    "churn_label = churn['Churn_upd'].copy()\n",
    "\n",
    "#Drop Churn_upd from dataframe\n",
    "churn = churn.drop(['Churn_upd'],axis=1)\n",
    "\n"
   ]
  },
  {
   "cell_type": "code",
   "execution_count": 2,
   "metadata": {},
   "outputs": [
    {
     "data": {
      "text/plain": [
       "'\\n#Start with Logistic Regression\\n#Load the model from Pickle file\\n\\nlr_model_pkl_file = \"lr_model_pkl_file.pkl\"\\n\\nwith open(lr_model_pkl_file, \\'rb\\') as file:  \\n    lr_saved_model = pickle.load(file)\\n\\nlr_y_predict = lr_saved_model.predict(churn)\\n\\n# Evaluate the model\\nlr_pred_accuracy = accuracy_score(churn_label, lr_y_predict)\\nprint(\"Accuracy:\", lr_pred_accuracy)\\n\\n'"
      ]
     },
     "execution_count": 2,
     "metadata": {},
     "output_type": "execute_result"
    }
   ],
   "source": [
    "'''\n",
    "#Start with Logistic Regression\n",
    "#Load the model from Pickle file\n",
    "\n",
    "lr_model_pkl_file = \"lr_model_pkl_file.pkl\"\n",
    "\n",
    "with open(lr_model_pkl_file, 'rb') as file:  \n",
    "    lr_saved_model = pickle.load(file)\n",
    "\n",
    "lr_y_predict = lr_saved_model.predict(churn)\n",
    "\n",
    "# Evaluate the model\n",
    "lr_pred_accuracy = accuracy_score(churn_label, lr_y_predict)\n",
    "print(\"Accuracy:\", lr_pred_accuracy)\n",
    "\n",
    "'''\n"
   ]
  },
  {
   "cell_type": "code",
   "execution_count": 3,
   "metadata": {},
   "outputs": [
    {
     "data": {
      "text/plain": [
       "'\\n#Next is SGDClassifier\\n#Load the model from Pickle file\\n\\nsgd_model_pkl_file = \"sgd_model_pkl_file.pkl\"\\n\\nwith open(sgd_model_pkl_file, \\'rb\\') as file:  \\n    sgd_saved_model = pickle.load(file)\\n\\nsgd_y_predict = sgd_saved_model.predict(churn)\\n\\n# Evaluate the model\\nsgd_pred_accuracy = accuracy_score(churn_label, sgd_y_predict)\\nprint(\"Accuracy:\", sgd_pred_accuracy)\\n\\n'"
      ]
     },
     "execution_count": 3,
     "metadata": {},
     "output_type": "execute_result"
    }
   ],
   "source": [
    "'''\n",
    "#Next is SGDClassifier\n",
    "#Load the model from Pickle file\n",
    "\n",
    "sgd_model_pkl_file = \"sgd_model_pkl_file.pkl\"\n",
    "\n",
    "with open(sgd_model_pkl_file, 'rb') as file:  \n",
    "    sgd_saved_model = pickle.load(file)\n",
    "\n",
    "sgd_y_predict = sgd_saved_model.predict(churn)\n",
    "\n",
    "# Evaluate the model\n",
    "sgd_pred_accuracy = accuracy_score(churn_label, sgd_y_predict)\n",
    "print(\"Accuracy:\", sgd_pred_accuracy)\n",
    "\n",
    "'''\n"
   ]
  },
  {
   "cell_type": "code",
   "execution_count": 4,
   "metadata": {},
   "outputs": [
    {
     "data": {
      "text/plain": [
       "'\\n#Next is DecisionTreeClassifier\\n#Load the model from Pickle file\\n\\ndt_model_pkl_file = \"dt_model_pkl_file.pkl\"\\n\\nwith open(dt_model_pkl_file, \\'rb\\') as file:  \\n    dt_saved_model = pickle.load(file)\\n\\ndt_y_predict = dt_saved_model.predict(churn)\\n\\n# Evaluate the model\\ndt_pred_accuracy = accuracy_score(churn_label, dt_y_predict)\\nprint(\"Accuracy:\", dt_pred_accuracy)\\n\\n'"
      ]
     },
     "execution_count": 4,
     "metadata": {},
     "output_type": "execute_result"
    }
   ],
   "source": [
    "'''\n",
    "#Next is DecisionTreeClassifier\n",
    "#Load the model from Pickle file\n",
    "\n",
    "dt_model_pkl_file = \"dt_model_pkl_file.pkl\"\n",
    "\n",
    "with open(dt_model_pkl_file, 'rb') as file:  \n",
    "    dt_saved_model = pickle.load(file)\n",
    "\n",
    "dt_y_predict = dt_saved_model.predict(churn)\n",
    "\n",
    "# Evaluate the model\n",
    "dt_pred_accuracy = accuracy_score(churn_label, dt_y_predict)\n",
    "print(\"Accuracy:\", dt_pred_accuracy)\n",
    "\n",
    "'''\n"
   ]
  },
  {
   "cell_type": "code",
   "execution_count": 5,
   "metadata": {},
   "outputs": [
    {
     "data": {
      "text/plain": [
       "'\\n#Next is RandomForestClassifier\\n#Load the model from Pickle file\\n\\nrf_model_pkl_file = \"rf_model_pkl_file.pkl\"\\n\\nwith open(rf_model_pkl_file, \\'rb\\') as file:  \\n    rf_saved_model = pickle.load(file)\\n\\nrf_y_predict = rf_saved_model.predict(churn)\\n\\n# Evaluate the model\\nrf_pred_accuracy = accuracy_score(churn_label, rf_y_predict)\\nprint(\"Accuracy:\", rf_pred_accuracy)\\n\\n'"
      ]
     },
     "execution_count": 5,
     "metadata": {},
     "output_type": "execute_result"
    }
   ],
   "source": [
    "'''\n",
    "#Next is RandomForestClassifier\n",
    "#Load the model from Pickle file\n",
    "\n",
    "rf_model_pkl_file = \"rf_model_pkl_file.pkl\"\n",
    "\n",
    "with open(rf_model_pkl_file, 'rb') as file:  \n",
    "    rf_saved_model = pickle.load(file)\n",
    "\n",
    "rf_y_predict = rf_saved_model.predict(churn)\n",
    "\n",
    "# Evaluate the model\n",
    "rf_pred_accuracy = accuracy_score(churn_label, rf_y_predict)\n",
    "print(\"Accuracy:\", rf_pred_accuracy)\n",
    "\n",
    "'''"
   ]
  },
  {
   "cell_type": "code",
   "execution_count": 6,
   "metadata": {},
   "outputs": [
    {
     "name": "stdout",
     "output_type": "stream",
     "text": [
      "Accuracy: 0.9400299850074962\n"
     ]
    }
   ],
   "source": [
    "#Next is XGBClassifier\n",
    "#Load the model from Pickle file\n",
    "\n",
    "xgb_model_pkl_file = \"xgb_model_pkl_file.pkl\"\n",
    "\n",
    "with open(xgb_model_pkl_file, 'rb') as file:  \n",
    "    xgb_saved_model = pickle.load(file)\n",
    "\n",
    "xgb_y_predict = xgb_saved_model.predict(churn)\n",
    "\n",
    "# Evaluate the model\n",
    "xgb_pred_accuracy = accuracy_score(churn_label, xgb_y_predict)\n",
    "print(\"Accuracy:\", xgb_pred_accuracy)\n",
    "\n"
   ]
  },
  {
   "cell_type": "code",
   "execution_count": null,
   "metadata": {},
   "outputs": [],
   "source": []
  },
  {
   "cell_type": "code",
   "execution_count": null,
   "metadata": {},
   "outputs": [],
   "source": []
  }
 ],
 "metadata": {
  "kernelspec": {
   "display_name": "Python 3",
   "language": "python",
   "name": "python3"
  },
  "language_info": {
   "codemirror_mode": {
    "name": "ipython",
    "version": 3
   },
   "file_extension": ".py",
   "mimetype": "text/x-python",
   "name": "python",
   "nbconvert_exporter": "python",
   "pygments_lexer": "ipython3",
   "version": "3.6.8"
  },
  "toc": {
   "base_numbering": 1,
   "nav_menu": {},
   "number_sections": true,
   "sideBar": true,
   "skip_h1_title": false,
   "title_cell": "Table of Contents",
   "title_sidebar": "Contents",
   "toc_cell": false,
   "toc_position": {},
   "toc_section_display": true,
   "toc_window_display": false
  }
 },
 "nbformat": 4,
 "nbformat_minor": 2
}
